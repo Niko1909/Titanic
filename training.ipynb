{
 "cells": [
  {
   "cell_type": "code",
   "execution_count": 3,
   "metadata": {},
   "outputs": [],
   "source": [
    "import pandas as pd\n",
    "from sklearn.model_selection import train_test_split\n",
    "from sklearn.preprocessing import StandardScaler\n",
    "from sklearn.preprocessing import OneHotEncoder\n",
    "from sklearn.ensemble import RandomForestClassifier\n",
    "from sklearn.linear_model import LogisticRegression\n",
    "from sklearn.svm import SVC\n",
    "from xgboost import XGBClassifier\n",
    "from tensorflow import keras\n",
    "from tensorflow.keras import layers\n",
    "from sklearn.metrics import accuracy_score"
   ]
  },
  {
   "cell_type": "code",
   "execution_count": 4,
   "metadata": {},
   "outputs": [],
   "source": [
    "# load data\n",
    "X = pd.read_csv('train.csv')\n",
    "X_test = pd.read_csv('test.csv')\n",
    "y = X.Survived\n",
    "\n",
    "# split data\n",
    "X.drop(['Survived'], axis=1, inplace=True)\n",
    "X_train, X_valid, y_train, y_valid = train_test_split(X, y, train_size=0.8, test_size=0.2, random_state=0)\n"
   ]
  },
  {
   "cell_type": "code",
   "execution_count": 6,
   "metadata": {},
   "outputs": [
    {
     "data": {
      "text/html": [
       "<div>\n",
       "<style scoped>\n",
       "    .dataframe tbody tr th:only-of-type {\n",
       "        vertical-align: middle;\n",
       "    }\n",
       "\n",
       "    .dataframe tbody tr th {\n",
       "        vertical-align: top;\n",
       "    }\n",
       "\n",
       "    .dataframe thead th {\n",
       "        text-align: right;\n",
       "    }\n",
       "</style>\n",
       "<table border=\"1\" class=\"dataframe\">\n",
       "  <thead>\n",
       "    <tr style=\"text-align: right;\">\n",
       "      <th></th>\n",
       "      <th>PassengerId</th>\n",
       "      <th>Pclass</th>\n",
       "      <th>Name</th>\n",
       "      <th>Sex</th>\n",
       "      <th>Age</th>\n",
       "      <th>SibSp</th>\n",
       "      <th>Parch</th>\n",
       "      <th>Ticket</th>\n",
       "      <th>Fare</th>\n",
       "      <th>Cabin</th>\n",
       "      <th>Embarked</th>\n",
       "    </tr>\n",
       "  </thead>\n",
       "  <tbody>\n",
       "    <tr>\n",
       "      <th>140</th>\n",
       "      <td>141</td>\n",
       "      <td>3</td>\n",
       "      <td>Boulos, Mrs. Joseph (Sultana)</td>\n",
       "      <td>female</td>\n",
       "      <td>NaN</td>\n",
       "      <td>0</td>\n",
       "      <td>2</td>\n",
       "      <td>2678</td>\n",
       "      <td>15.2458</td>\n",
       "      <td>NaN</td>\n",
       "      <td>C</td>\n",
       "    </tr>\n",
       "    <tr>\n",
       "      <th>439</th>\n",
       "      <td>440</td>\n",
       "      <td>2</td>\n",
       "      <td>Kvillner, Mr. Johan Henrik Johannesson</td>\n",
       "      <td>male</td>\n",
       "      <td>31.0</td>\n",
       "      <td>0</td>\n",
       "      <td>0</td>\n",
       "      <td>C.A. 18723</td>\n",
       "      <td>10.5000</td>\n",
       "      <td>NaN</td>\n",
       "      <td>S</td>\n",
       "    </tr>\n",
       "    <tr>\n",
       "      <th>817</th>\n",
       "      <td>818</td>\n",
       "      <td>2</td>\n",
       "      <td>Mallet, Mr. Albert</td>\n",
       "      <td>male</td>\n",
       "      <td>31.0</td>\n",
       "      <td>1</td>\n",
       "      <td>1</td>\n",
       "      <td>S.C./PARIS 2079</td>\n",
       "      <td>37.0042</td>\n",
       "      <td>NaN</td>\n",
       "      <td>C</td>\n",
       "    </tr>\n",
       "    <tr>\n",
       "      <th>378</th>\n",
       "      <td>379</td>\n",
       "      <td>3</td>\n",
       "      <td>Betros, Mr. Tannous</td>\n",
       "      <td>male</td>\n",
       "      <td>20.0</td>\n",
       "      <td>0</td>\n",
       "      <td>0</td>\n",
       "      <td>2648</td>\n",
       "      <td>4.0125</td>\n",
       "      <td>NaN</td>\n",
       "      <td>C</td>\n",
       "    </tr>\n",
       "    <tr>\n",
       "      <th>491</th>\n",
       "      <td>492</td>\n",
       "      <td>3</td>\n",
       "      <td>Windelov, Mr. Einar</td>\n",
       "      <td>male</td>\n",
       "      <td>21.0</td>\n",
       "      <td>0</td>\n",
       "      <td>0</td>\n",
       "      <td>SOTON/OQ 3101317</td>\n",
       "      <td>7.2500</td>\n",
       "      <td>NaN</td>\n",
       "      <td>S</td>\n",
       "    </tr>\n",
       "  </tbody>\n",
       "</table>\n",
       "</div>"
      ],
      "text/plain": [
       "     PassengerId  Pclass                                    Name     Sex  \\\n",
       "140          141       3           Boulos, Mrs. Joseph (Sultana)  female   \n",
       "439          440       2  Kvillner, Mr. Johan Henrik Johannesson    male   \n",
       "817          818       2                      Mallet, Mr. Albert    male   \n",
       "378          379       3                     Betros, Mr. Tannous    male   \n",
       "491          492       3                     Windelov, Mr. Einar    male   \n",
       "\n",
       "      Age  SibSp  Parch            Ticket     Fare Cabin Embarked  \n",
       "140   NaN      0      2              2678  15.2458   NaN        C  \n",
       "439  31.0      0      0        C.A. 18723  10.5000   NaN        S  \n",
       "817  31.0      1      1   S.C./PARIS 2079  37.0042   NaN        C  \n",
       "378  20.0      0      0              2648   4.0125   NaN        C  \n",
       "491  21.0      0      0  SOTON/OQ 3101317   7.2500   NaN        S  "
      ]
     },
     "execution_count": 6,
     "metadata": {},
     "output_type": "execute_result"
    }
   ],
   "source": [
    "X_train.head()"
   ]
  },
  {
   "cell_type": "code",
   "execution_count": 7,
   "metadata": {},
   "outputs": [],
   "source": [
    "# iteration 1: numerical columns only\n",
    "X_train1 = X_train.select_dtypes(exclude=['object'])\n",
    "X_valid1 = X_valid.select_dtypes(exclude=['object'])\n",
    "X_test1 = X_test.select_dtypes(exclude=['object'])\n",
    "\n",
    "# only age has null values of the numerical values\n",
    "# fill with the mean\n",
    "X_train1.fillna(X_train1.mean(), inplace=True)\n",
    "X_valid1.fillna(X_valid1.mean(), inplace=True)\n",
    "X_test1.fillna(X_test1.mean(), inplace=True)"
   ]
  },
  {
   "cell_type": "code",
   "execution_count": 8,
   "metadata": {},
   "outputs": [
    {
     "data": {
      "text/html": [
       "<div>\n",
       "<style scoped>\n",
       "    .dataframe tbody tr th:only-of-type {\n",
       "        vertical-align: middle;\n",
       "    }\n",
       "\n",
       "    .dataframe tbody tr th {\n",
       "        vertical-align: top;\n",
       "    }\n",
       "\n",
       "    .dataframe thead th {\n",
       "        text-align: right;\n",
       "    }\n",
       "</style>\n",
       "<table border=\"1\" class=\"dataframe\">\n",
       "  <thead>\n",
       "    <tr style=\"text-align: right;\">\n",
       "      <th></th>\n",
       "      <th>PassengerId</th>\n",
       "      <th>Pclass</th>\n",
       "      <th>Age</th>\n",
       "      <th>SibSp</th>\n",
       "      <th>Parch</th>\n",
       "      <th>Fare</th>\n",
       "    </tr>\n",
       "  </thead>\n",
       "  <tbody>\n",
       "    <tr>\n",
       "      <th>140</th>\n",
       "      <td>141</td>\n",
       "      <td>3</td>\n",
       "      <td>29.745184</td>\n",
       "      <td>0</td>\n",
       "      <td>2</td>\n",
       "      <td>15.2458</td>\n",
       "    </tr>\n",
       "    <tr>\n",
       "      <th>439</th>\n",
       "      <td>440</td>\n",
       "      <td>2</td>\n",
       "      <td>31.000000</td>\n",
       "      <td>0</td>\n",
       "      <td>0</td>\n",
       "      <td>10.5000</td>\n",
       "    </tr>\n",
       "    <tr>\n",
       "      <th>817</th>\n",
       "      <td>818</td>\n",
       "      <td>2</td>\n",
       "      <td>31.000000</td>\n",
       "      <td>1</td>\n",
       "      <td>1</td>\n",
       "      <td>37.0042</td>\n",
       "    </tr>\n",
       "    <tr>\n",
       "      <th>378</th>\n",
       "      <td>379</td>\n",
       "      <td>3</td>\n",
       "      <td>20.000000</td>\n",
       "      <td>0</td>\n",
       "      <td>0</td>\n",
       "      <td>4.0125</td>\n",
       "    </tr>\n",
       "    <tr>\n",
       "      <th>491</th>\n",
       "      <td>492</td>\n",
       "      <td>3</td>\n",
       "      <td>21.000000</td>\n",
       "      <td>0</td>\n",
       "      <td>0</td>\n",
       "      <td>7.2500</td>\n",
       "    </tr>\n",
       "  </tbody>\n",
       "</table>\n",
       "</div>"
      ],
      "text/plain": [
       "     PassengerId  Pclass        Age  SibSp  Parch     Fare\n",
       "140          141       3  29.745184      0      2  15.2458\n",
       "439          440       2  31.000000      0      0  10.5000\n",
       "817          818       2  31.000000      1      1  37.0042\n",
       "378          379       3  20.000000      0      0   4.0125\n",
       "491          492       3  21.000000      0      0   7.2500"
      ]
     },
     "execution_count": 8,
     "metadata": {},
     "output_type": "execute_result"
    }
   ],
   "source": [
    "X_train1.head()"
   ]
  },
  {
   "cell_type": "code",
   "execution_count": 9,
   "metadata": {},
   "outputs": [],
   "source": [
    "def get_score_RFC(X_train, X_valid, y_train, y_valid):\n",
    "    model = RandomForestClassifier(n_estimators=100, random_state=0)\n",
    "    model.fit(X_train, y_train)\n",
    "    preds = model.predict(X_valid)\n",
    "    return accuracy_score(y_valid, preds)\n",
    "\n",
    "def get_score_LR(X_train, X_valid, y_train, y_valid):\n",
    "    model = LogisticRegression(random_state=0)\n",
    "    model.fit(X_train, y_train)\n",
    "    preds = model.predict(X_valid)\n",
    "    return accuracy_score(y_valid, preds)\n",
    "\n",
    "def get_score_SVC(X_train, X_valid, y_train, y_valid):\n",
    "    model = SVC(random_state=0)\n",
    "    model.fit(X_train, y_train)\n",
    "    preds = model.predict(X_valid)\n",
    "    return accuracy_score(y_valid, preds)\n",
    "\n",
    "def get_score_XGB(X_train, X_valid, y_train, y_valid):\n",
    "    model = XGBClassifier(n_estimators=100, random_state=0)\n",
    "    model.fit(X_train, y_train)\n",
    "    preds = model.predict(X_valid)\n",
    "    return accuracy_score(y_valid, preds)"
   ]
  },
  {
   "cell_type": "code",
   "execution_count": 10,
   "metadata": {},
   "outputs": [
    {
     "name": "stdout",
     "output_type": "stream",
     "text": [
      "accuracy score from numerical columns only:\n"
     ]
    },
    {
     "name": "stderr",
     "output_type": "stream",
     "text": [
      "c:\\Users\\niko-\\AppData\\Local\\Programs\\Python\\Python312\\Lib\\site-packages\\sklearn\\linear_model\\_logistic.py:469: ConvergenceWarning: lbfgs failed to converge (status=1):\n",
      "STOP: TOTAL NO. of ITERATIONS REACHED LIMIT.\n",
      "\n",
      "Increase the number of iterations (max_iter) or scale the data as shown in:\n",
      "    https://scikit-learn.org/stable/modules/preprocessing.html\n",
      "Please also refer to the documentation for alternative solver options:\n",
      "    https://scikit-learn.org/stable/modules/linear_model.html#logistic-regression\n",
      "  n_iter_i = _check_optimize_result(\n"
     ]
    },
    {
     "data": {
      "text/plain": [
       "(0.7430167597765364, 0.7430167597765364, 0.659217877094972, 0.7486033519553073)"
      ]
     },
     "execution_count": 10,
     "metadata": {},
     "output_type": "execute_result"
    }
   ],
   "source": [
    "print('accuracy score from numerical columns only:')\n",
    "get_score_RFC(X_train1, X_valid1, y_train, y_valid), get_score_LR(X_train1, X_valid1, y_train, y_valid), get_score_SVC(X_train1, X_valid1, y_train, y_valid), get_score_XGB(X_train1, X_valid1, y_train, y_valid)"
   ]
  },
  {
   "cell_type": "code",
   "execution_count": 11,
   "metadata": {},
   "outputs": [],
   "source": [
    "# iteration 2: numerical columns only, with scaling (age, fare, passengerId, Parch, SibSp)\n",
    "def normalize_data(X_train, X_valid, X_test): # only normalize age, fare, passengerId\n",
    "    scaler = StandardScaler()\n",
    "    X_train_toscale = X_train.loc[:, ['Age', 'Fare', 'PassengerId', 'Parch', 'SibSp']]\n",
    "    X_valid_toscale = X_valid.loc[:, ['Age', 'Fare', 'PassengerId', 'Parch', 'SibSp']]\n",
    "    X_test_toscale = X_test.loc[:, ['Age', 'Fare', 'PassengerId', 'Parch', 'SibSp']]\n",
    "    scaler.fit(X_train_toscale)\n",
    "    X_train_scaled = scaler.transform(X_train_toscale)\n",
    "    X_valid_scaled = scaler.transform(X_valid_toscale)\n",
    "    X_test_scaled = scaler.transform(X_test_toscale)\n",
    "\n",
    "    # concatenate the scaled columns back to the original dataframes\n",
    "    X_train.drop(['Age', 'Fare', 'PassengerId', 'Parch', 'SibSp'], axis=1, inplace=True)\n",
    "    X_valid.drop(['Age', 'Fare', 'PassengerId', 'Parch', 'SibSp'], axis=1, inplace=True)\n",
    "    X_test.drop(['Age', 'Fare', 'PassengerId', 'Parch', 'SibSp'], axis=1, inplace=True)\n",
    "    \n",
    "    X_train = pd.concat([X_train, pd.DataFrame(X_train_scaled, index=X_train.index, columns=['Age', 'Fare', 'PassengerId', 'Parch', 'SibSp'])], axis=1)\n",
    "    X_valid = pd.concat([X_valid, pd.DataFrame(X_valid_scaled, index=X_valid.index, columns=['Age', 'Fare', 'PassengerId', 'Parch', 'SibSp'])], axis=1)\n",
    "    X_test = pd.concat([X_test, pd.DataFrame(X_test_scaled, index=X_test.index, columns=['Age', 'Fare', 'PassengerId', 'Parch', 'SibSp'])], axis=1)\n",
    "    return X_train, X_valid, X_test\n",
    "\n",
    "X_train2, X_valid2, X_test2 = normalize_data(X_train1.copy(), X_valid1.copy(), X_test1.copy())"
   ]
  },
  {
   "cell_type": "code",
   "execution_count": 12,
   "metadata": {},
   "outputs": [
    {
     "data": {
      "text/html": [
       "<div>\n",
       "<style scoped>\n",
       "    .dataframe tbody tr th:only-of-type {\n",
       "        vertical-align: middle;\n",
       "    }\n",
       "\n",
       "    .dataframe tbody tr th {\n",
       "        vertical-align: top;\n",
       "    }\n",
       "\n",
       "    .dataframe thead th {\n",
       "        text-align: right;\n",
       "    }\n",
       "</style>\n",
       "<table border=\"1\" class=\"dataframe\">\n",
       "  <thead>\n",
       "    <tr style=\"text-align: right;\">\n",
       "      <th></th>\n",
       "      <th>Pclass</th>\n",
       "      <th>Age</th>\n",
       "      <th>Fare</th>\n",
       "      <th>PassengerId</th>\n",
       "      <th>Parch</th>\n",
       "      <th>SibSp</th>\n",
       "    </tr>\n",
       "  </thead>\n",
       "  <tbody>\n",
       "    <tr>\n",
       "      <th>140</th>\n",
       "      <td>3</td>\n",
       "      <td>0.000000</td>\n",
       "      <td>-0.331679</td>\n",
       "      <td>-1.163430</td>\n",
       "      <td>1.959264</td>\n",
       "      <td>-0.464452</td>\n",
       "    </tr>\n",
       "    <tr>\n",
       "      <th>439</th>\n",
       "      <td>2</td>\n",
       "      <td>0.095932</td>\n",
       "      <td>-0.426405</td>\n",
       "      <td>-0.012638</td>\n",
       "      <td>-0.477410</td>\n",
       "      <td>-0.464452</td>\n",
       "    </tr>\n",
       "    <tr>\n",
       "      <th>817</th>\n",
       "      <td>2</td>\n",
       "      <td>0.095932</td>\n",
       "      <td>0.102620</td>\n",
       "      <td>1.442209</td>\n",
       "      <td>0.740927</td>\n",
       "      <td>0.412710</td>\n",
       "    </tr>\n",
       "    <tr>\n",
       "      <th>378</th>\n",
       "      <td>3</td>\n",
       "      <td>-0.745030</td>\n",
       "      <td>-0.555896</td>\n",
       "      <td>-0.247415</td>\n",
       "      <td>-0.477410</td>\n",
       "      <td>-0.464452</td>\n",
       "    </tr>\n",
       "    <tr>\n",
       "      <th>491</th>\n",
       "      <td>3</td>\n",
       "      <td>-0.668579</td>\n",
       "      <td>-0.491276</td>\n",
       "      <td>0.187499</td>\n",
       "      <td>-0.477410</td>\n",
       "      <td>-0.464452</td>\n",
       "    </tr>\n",
       "  </tbody>\n",
       "</table>\n",
       "</div>"
      ],
      "text/plain": [
       "     Pclass       Age      Fare  PassengerId     Parch     SibSp\n",
       "140       3  0.000000 -0.331679    -1.163430  1.959264 -0.464452\n",
       "439       2  0.095932 -0.426405    -0.012638 -0.477410 -0.464452\n",
       "817       2  0.095932  0.102620     1.442209  0.740927  0.412710\n",
       "378       3 -0.745030 -0.555896    -0.247415 -0.477410 -0.464452\n",
       "491       3 -0.668579 -0.491276     0.187499 -0.477410 -0.464452"
      ]
     },
     "execution_count": 12,
     "metadata": {},
     "output_type": "execute_result"
    }
   ],
   "source": [
    "X_train2.head()"
   ]
  },
  {
   "cell_type": "code",
   "execution_count": 13,
   "metadata": {},
   "outputs": [
    {
     "name": "stdout",
     "output_type": "stream",
     "text": [
      "accuracy score from numerical columns only (normalized):\n"
     ]
    },
    {
     "data": {
      "text/plain": [
       "(0.7318435754189944, 0.7430167597765364, 0.770949720670391, 0.7486033519553073)"
      ]
     },
     "execution_count": 13,
     "metadata": {},
     "output_type": "execute_result"
    }
   ],
   "source": [
    "print('accuracy score from numerical columns only (normalized):')\n",
    "get_score_RFC(X_train2, X_valid2, y_train, y_valid), get_score_LR(X_train2, X_valid2, y_train, y_valid), get_score_SVC(X_train2, X_valid2, y_train, y_valid), get_score_XGB(X_train1, X_valid1, y_train, y_valid)"
   ]
  },
  {
   "cell_type": "code",
   "execution_count": 14,
   "metadata": {},
   "outputs": [],
   "source": [
    "# iteration 3: iteration 2 with categorical numerical variables transformed to one-hot encoding (pclass (3), sex (2), embarked (3), SibSp (has/has not), Parch (has/has not))\n",
    "# drop name, ticket, cabin\n",
    "X_train3 = X_train.drop(['Name', 'Ticket', 'Cabin'], axis=1)\n",
    "X_valid3 = X_valid.drop(['Name', 'Ticket', 'Cabin'], axis=1)\n",
    "X_test3 = X_test.drop(['Name', 'Ticket', 'Cabin'], axis=1)\n",
    "\n",
    "# one-hot encoding for low cardinality columns\n",
    "low_card_X_train = X_train3.loc[:, ['Pclass', 'Sex', 'Embarked']]\n",
    "low_card_X_valid = X_valid3.loc[:, ['Pclass', 'Sex', 'Embarked']]\n",
    "low_card_X_test = X_test3.loc[:, ['Pclass', 'Sex', 'Embarked']]\n",
    "\n",
    "OH_encoder = OneHotEncoder(handle_unknown='ignore', sparse_output=False)\n",
    "OH_cols_train = pd.DataFrame(OH_encoder.fit_transform(low_card_X_train))\n",
    "OH_cols_valid = pd.DataFrame(OH_encoder.transform(low_card_X_valid))\n",
    "OH_cols_test = pd.DataFrame(OH_encoder.transform(low_card_X_test))\n",
    "\n",
    "OH_cols_train.index = X_train3.index\n",
    "OH_cols_valid.index = X_valid3.index\n",
    "OH_cols_test.index = X_test3.index\n",
    "\n",
    "# one-hot encoding for high cardinality columns\n",
    "high_card_X_train = X_train3.loc[:, ['SibSp', 'Parch']]\n",
    "high_card_X_valid = X_valid3.loc[:, ['SibSp', 'Parch']]\n",
    "high_card_X_test = X_test3.loc[:, ['SibSp', 'Parch']]\n",
    "\n",
    "high_card_X_train['SibSp'] = high_card_X_train['SibSp'].apply(lambda x: 1 if x > 0 else 0)\n",
    "high_card_X_train['Parch'] = high_card_X_train['Parch'].apply(lambda x: 1 if x > 0 else 0)\n",
    "high_card_X_valid['SibSp'] = high_card_X_valid['SibSp'].apply(lambda x: 1 if x > 0 else 0)\n",
    "high_card_X_valid['Parch'] = high_card_X_valid['Parch'].apply(lambda x: 1 if x > 0 else 0)\n",
    "high_card_X_test['SibSp'] = high_card_X_test['SibSp'].apply(lambda x: 1 if x > 0 else 0)\n",
    "high_card_X_test['Parch'] = high_card_X_test['Parch'].apply(lambda x: 1 if x > 0 else 0)\n",
    "\n",
    "# concatenate all columns\n",
    "X_train3 = pd.concat([X_train2.drop(['Pclass', 'SibSp', 'Parch'], axis=1), OH_cols_train, high_card_X_train], axis=1)\n",
    "X_valid3 = pd.concat([X_valid2.drop(['Pclass', 'SibSp', 'Parch'], axis=1), OH_cols_valid, high_card_X_valid], axis=1)\n",
    "X_test3 = pd.concat([X_test2.drop(['Pclass', 'SibSp', 'Parch'], axis=1), OH_cols_test, high_card_X_test], axis=1)\n",
    "X_train3.columns = X_train3.columns.astype(str)\n",
    "X_valid3.columns = X_valid3.columns.astype(str)\n",
    "X_test3.columns = X_test3.columns.astype(str)"
   ]
  },
  {
   "cell_type": "code",
   "execution_count": 15,
   "metadata": {},
   "outputs": [
    {
     "data": {
      "text/html": [
       "<div>\n",
       "<style scoped>\n",
       "    .dataframe tbody tr th:only-of-type {\n",
       "        vertical-align: middle;\n",
       "    }\n",
       "\n",
       "    .dataframe tbody tr th {\n",
       "        vertical-align: top;\n",
       "    }\n",
       "\n",
       "    .dataframe thead th {\n",
       "        text-align: right;\n",
       "    }\n",
       "</style>\n",
       "<table border=\"1\" class=\"dataframe\">\n",
       "  <thead>\n",
       "    <tr style=\"text-align: right;\">\n",
       "      <th></th>\n",
       "      <th>Age</th>\n",
       "      <th>Fare</th>\n",
       "      <th>PassengerId</th>\n",
       "      <th>0</th>\n",
       "      <th>1</th>\n",
       "      <th>2</th>\n",
       "      <th>3</th>\n",
       "      <th>4</th>\n",
       "      <th>5</th>\n",
       "      <th>6</th>\n",
       "      <th>7</th>\n",
       "      <th>8</th>\n",
       "      <th>SibSp</th>\n",
       "      <th>Parch</th>\n",
       "    </tr>\n",
       "  </thead>\n",
       "  <tbody>\n",
       "    <tr>\n",
       "      <th>140</th>\n",
       "      <td>0.000000</td>\n",
       "      <td>-0.331679</td>\n",
       "      <td>-1.163430</td>\n",
       "      <td>0.0</td>\n",
       "      <td>0.0</td>\n",
       "      <td>1.0</td>\n",
       "      <td>1.0</td>\n",
       "      <td>0.0</td>\n",
       "      <td>1.0</td>\n",
       "      <td>0.0</td>\n",
       "      <td>0.0</td>\n",
       "      <td>0.0</td>\n",
       "      <td>0</td>\n",
       "      <td>1</td>\n",
       "    </tr>\n",
       "    <tr>\n",
       "      <th>439</th>\n",
       "      <td>0.095932</td>\n",
       "      <td>-0.426405</td>\n",
       "      <td>-0.012638</td>\n",
       "      <td>0.0</td>\n",
       "      <td>1.0</td>\n",
       "      <td>0.0</td>\n",
       "      <td>0.0</td>\n",
       "      <td>1.0</td>\n",
       "      <td>0.0</td>\n",
       "      <td>0.0</td>\n",
       "      <td>1.0</td>\n",
       "      <td>0.0</td>\n",
       "      <td>0</td>\n",
       "      <td>0</td>\n",
       "    </tr>\n",
       "    <tr>\n",
       "      <th>817</th>\n",
       "      <td>0.095932</td>\n",
       "      <td>0.102620</td>\n",
       "      <td>1.442209</td>\n",
       "      <td>0.0</td>\n",
       "      <td>1.0</td>\n",
       "      <td>0.0</td>\n",
       "      <td>0.0</td>\n",
       "      <td>1.0</td>\n",
       "      <td>1.0</td>\n",
       "      <td>0.0</td>\n",
       "      <td>0.0</td>\n",
       "      <td>0.0</td>\n",
       "      <td>1</td>\n",
       "      <td>1</td>\n",
       "    </tr>\n",
       "    <tr>\n",
       "      <th>378</th>\n",
       "      <td>-0.745030</td>\n",
       "      <td>-0.555896</td>\n",
       "      <td>-0.247415</td>\n",
       "      <td>0.0</td>\n",
       "      <td>0.0</td>\n",
       "      <td>1.0</td>\n",
       "      <td>0.0</td>\n",
       "      <td>1.0</td>\n",
       "      <td>1.0</td>\n",
       "      <td>0.0</td>\n",
       "      <td>0.0</td>\n",
       "      <td>0.0</td>\n",
       "      <td>0</td>\n",
       "      <td>0</td>\n",
       "    </tr>\n",
       "    <tr>\n",
       "      <th>491</th>\n",
       "      <td>-0.668579</td>\n",
       "      <td>-0.491276</td>\n",
       "      <td>0.187499</td>\n",
       "      <td>0.0</td>\n",
       "      <td>0.0</td>\n",
       "      <td>1.0</td>\n",
       "      <td>0.0</td>\n",
       "      <td>1.0</td>\n",
       "      <td>0.0</td>\n",
       "      <td>0.0</td>\n",
       "      <td>1.0</td>\n",
       "      <td>0.0</td>\n",
       "      <td>0</td>\n",
       "      <td>0</td>\n",
       "    </tr>\n",
       "  </tbody>\n",
       "</table>\n",
       "</div>"
      ],
      "text/plain": [
       "          Age      Fare  PassengerId    0    1    2    3    4    5    6    7  \\\n",
       "140  0.000000 -0.331679    -1.163430  0.0  0.0  1.0  1.0  0.0  1.0  0.0  0.0   \n",
       "439  0.095932 -0.426405    -0.012638  0.0  1.0  0.0  0.0  1.0  0.0  0.0  1.0   \n",
       "817  0.095932  0.102620     1.442209  0.0  1.0  0.0  0.0  1.0  1.0  0.0  0.0   \n",
       "378 -0.745030 -0.555896    -0.247415  0.0  0.0  1.0  0.0  1.0  1.0  0.0  0.0   \n",
       "491 -0.668579 -0.491276     0.187499  0.0  0.0  1.0  0.0  1.0  0.0  0.0  1.0   \n",
       "\n",
       "       8  SibSp  Parch  \n",
       "140  0.0      0      1  \n",
       "439  0.0      0      0  \n",
       "817  0.0      1      1  \n",
       "378  0.0      0      0  \n",
       "491  0.0      0      0  "
      ]
     },
     "execution_count": 15,
     "metadata": {},
     "output_type": "execute_result"
    }
   ],
   "source": [
    "X_train3.head()"
   ]
  },
  {
   "cell_type": "code",
   "execution_count": 16,
   "metadata": {},
   "outputs": [
    {
     "name": "stdout",
     "output_type": "stream",
     "text": [
      "accuracy score with categorical variables one-hot encoded:\n"
     ]
    },
    {
     "data": {
      "text/plain": [
       "(0.8435754189944135,\n",
       " 0.8044692737430168,\n",
       " 0.8100558659217877,\n",
       " 0.8435754189944135)"
      ]
     },
     "execution_count": 16,
     "metadata": {},
     "output_type": "execute_result"
    }
   ],
   "source": [
    "print('accuracy score with categorical variables one-hot encoded:')\n",
    "get_score_RFC(X_train3, X_valid3, y_train, y_valid), get_score_LR(X_train3, X_valid3, y_train, y_valid), get_score_SVC(X_train3, X_valid3, y_train, y_valid), get_score_XGB(X_train3, X_valid3, y_train, y_valid)"
   ]
  },
  {
   "cell_type": "code",
   "execution_count": 17,
   "metadata": {},
   "outputs": [],
   "source": [
    "# build neural network\n",
    "def build_model1(X_train, y_train, X_valid, y_valid):\n",
    "    model = keras.Sequential([\n",
    "        layers.Dense(units=64, activation='relu', input_shape=[X_train.shape[1]]),\n",
    "        layers.Dense(units=64, activation='relu'),\n",
    "        layers.Dense(units=1, activation='sigmoid')\n",
    "    ])\n",
    "    model.compile(\n",
    "        optimizer='adam',\n",
    "        loss='binary_crossentropy',\n",
    "        metrics=['binary_accuracy']\n",
    "    )\n",
    "    early_stopping = keras.callbacks.EarlyStopping(\n",
    "        patience=10,\n",
    "        min_delta=0.001,\n",
    "        restore_best_weights=True\n",
    "    )\n",
    "    history = model.fit(\n",
    "        X_train, y_train,\n",
    "        validation_data=(X_valid, y_valid),\n",
    "        batch_size=32,\n",
    "        epochs=50,\n",
    "        callbacks=[early_stopping],\n",
    "        verbose=0\n",
    "    )\n",
    "    history_df = pd.DataFrame(history.history)\n",
    "    history_df.loc[:, ['loss', 'val_loss']].plot()\n",
    "    history_df.loc[:, ['binary_accuracy', 'val_binary_accuracy']].plot()\n",
    "\n",
    "    print(f\"Minimum validation loss: {history_df['val_loss'].min()}\")\n",
    "    print(f\"Maximum validation accuracy: {history_df['val_binary_accuracy'].max()}\")\n",
    "    return model"
   ]
  },
  {
   "cell_type": "code",
   "execution_count": 18,
   "metadata": {},
   "outputs": [
    {
     "name": "stderr",
     "output_type": "stream",
     "text": [
      "c:\\Users\\niko-\\AppData\\Local\\Programs\\Python\\Python312\\Lib\\site-packages\\keras\\src\\layers\\core\\dense.py:87: UserWarning: Do not pass an `input_shape`/`input_dim` argument to a layer. When using Sequential models, prefer using an `Input(shape)` object as the first layer in the model instead.\n",
      "  super().__init__(activity_regularizer=activity_regularizer, **kwargs)\n"
     ]
    },
    {
     "name": "stdout",
     "output_type": "stream",
     "text": [
      "Minimum validation loss: 0.3839539587497711\n",
      "Maximum validation accuracy: 0.8435754179954529\n"
     ]
    },
    {
     "data": {
      "image/png": "[encoded data removed]",
      "text/plain": [
       "<Figure size 640x480 with 1 Axes>"
      ]
     },
     "metadata": {},
     "output_type": "display_data"
    },
    {
     "data": {
      "image/png": "[encoded data removed]",
      "text/plain": [
       "<Figure size 640x480 with 1 Axes>"
      ]
     },
     "metadata": {},
     "output_type": "display_data"
    }
   ],
   "source": [
    "model1 = build_model1(X_train3, y_train, X_valid3, y_valid)"
   ]
  },
  {
   "cell_type": "code",
   "execution_count": 19,
   "metadata": {},
   "outputs": [],
   "source": [
    "# similar model but with dropout, batch normalization, one more layer, and a learning rate schedule\n",
    "def build_model2(X_train, y_train, X_valid, y_valid):\n",
    "    model = keras.Sequential([\n",
    "        layers.BatchNormalization(),\n",
    "        layers.Dense(units=64, activation='relu', input_shape=[X_train.shape[1]]),\n",
    "        layers.Dropout(rate=0.3),\n",
    "        layers.BatchNormalization(),\n",
    "        layers.Dense(units=64, activation='relu'),\n",
    "        layers.Dropout(rate=0.3),\n",
    "        layers.BatchNormalization(),\n",
    "        layers.Dense(units=64, activation='relu'),\n",
    "        layers.Dropout(rate=0.3),\n",
    "        layers.BatchNormalization(),\n",
    "        layers.Dense(units=1, activation='sigmoid')\n",
    "    ])\n",
    "    lr_sched = keras.optimizers.schedules.ExponentialDecay(\n",
    "        initial_learning_rate = 0.02,\n",
    "        decay_steps=10000,\n",
    "        decay_rate=0.9\n",
    "    )\n",
    "    opt = keras.optimizers.Adam(learning_rate=lr_sched)\n",
    "    model.compile(\n",
    "        optimizer=opt,\n",
    "        loss='binary_crossentropy',\n",
    "        metrics=['binary_accuracy']\n",
    "    )\n",
    "    early_stopping = keras.callbacks.EarlyStopping(\n",
    "        patience=10,\n",
    "        min_delta=0.001,\n",
    "        restore_best_weights=True\n",
    "    )\n",
    "    history = model.fit(\n",
    "        X_train, y_train,\n",
    "        validation_data=(X_valid, y_valid),\n",
    "        batch_size=32,\n",
    "        epochs=50,\n",
    "        callbacks=[early_stopping],\n",
    "        verbose=0\n",
    "    )\n",
    "    history_df = pd.DataFrame(history.history)\n",
    "    history_df.loc[:, ['loss', 'val_loss']].plot()\n",
    "    history_df.loc[:, ['binary_accuracy', 'val_binary_accuracy']].plot()\n",
    "\n",
    "    print(f\"Minimum validation loss: {history_df['val_loss'].min()}\")\n",
    "    print(f\"Maximum validation accuracy: {history_df['val_binary_accuracy'].max()}\")\n",
    "    return model"
   ]
  },
  {
   "cell_type": "code",
   "execution_count": 20,
   "metadata": {},
   "outputs": [
    {
     "name": "stderr",
     "output_type": "stream",
     "text": [
      "c:\\Users\\niko-\\AppData\\Local\\Programs\\Python\\Python312\\Lib\\site-packages\\keras\\src\\layers\\core\\dense.py:87: UserWarning: Do not pass an `input_shape`/`input_dim` argument to a layer. When using Sequential models, prefer using an `Input(shape)` object as the first layer in the model instead.\n",
      "  super().__init__(activity_regularizer=activity_regularizer, **kwargs)\n"
     ]
    },
    {
     "name": "stdout",
     "output_type": "stream",
     "text": [
      "Minimum validation loss: 0.393917053937912\n",
      "Maximum validation accuracy: 0.8379888534545898\n"
     ]
    },
    {
     "data": {
      "image/png": "[encoded data removed]",
      "text/plain": [
       "<Figure size 640x480 with 1 Axes>"
      ]
     },
     "metadata": {},
     "output_type": "display_data"
    },
    {
     "data": {
      "image/png": "[encoded data removed]",
      "text/plain": [
       "<Figure size 640x480 with 1 Axes>"
      ]
     },
     "metadata": {},
     "output_type": "display_data"
    }
   ],
   "source": [
    "model2 = build_model2(X_train3, y_train, X_valid3, y_valid)"
   ]
  },
  {
   "cell_type": "code",
   "execution_count": 35,
   "metadata": {},
   "outputs": [
    {
     "name": "stdout",
     "output_type": "stream",
     "text": [
      "\u001b[1m14/14\u001b[0m \u001b[32m━━━━━━━━━━━━━━━━━━━━\u001b[0m\u001b[37m\u001b[0m \u001b[1m0s\u001b[0m 500us/step\n"
     ]
    },
    {
     "data": {
      "text/html": [
       "<div>\n",
       "<style scoped>\n",
       "    .dataframe tbody tr th:only-of-type {\n",
       "        vertical-align: middle;\n",
       "    }\n",
       "\n",
       "    .dataframe tbody tr th {\n",
       "        vertical-align: top;\n",
       "    }\n",
       "\n",
       "    .dataframe thead th {\n",
       "        text-align: right;\n",
       "    }\n",
       "</style>\n",
       "<table border=\"1\" class=\"dataframe\">\n",
       "  <thead>\n",
       "    <tr style=\"text-align: right;\">\n",
       "      <th></th>\n",
       "      <th>PassengerId</th>\n",
       "      <th>Survived</th>\n",
       "    </tr>\n",
       "  </thead>\n",
       "  <tbody>\n",
       "    <tr>\n",
       "      <th>0</th>\n",
       "      <td>892</td>\n",
       "      <td>0</td>\n",
       "    </tr>\n",
       "    <tr>\n",
       "      <th>1</th>\n",
       "      <td>893</td>\n",
       "      <td>0</td>\n",
       "    </tr>\n",
       "    <tr>\n",
       "      <th>2</th>\n",
       "      <td>894</td>\n",
       "      <td>0</td>\n",
       "    </tr>\n",
       "    <tr>\n",
       "      <th>3</th>\n",
       "      <td>895</td>\n",
       "      <td>0</td>\n",
       "    </tr>\n",
       "    <tr>\n",
       "      <th>4</th>\n",
       "      <td>896</td>\n",
       "      <td>0</td>\n",
       "    </tr>\n",
       "  </tbody>\n",
       "</table>\n",
       "</div>"
      ],
      "text/plain": [
       "   PassengerId  Survived\n",
       "0          892         0\n",
       "1          893         0\n",
       "2          894         0\n",
       "3          895         0\n",
       "4          896         0"
      ]
     },
     "execution_count": 35,
     "metadata": {},
     "output_type": "execute_result"
    }
   ],
   "source": [
    "# make predictions on test set\n",
    "def make_predictions(model, X_test, passengerIds):\n",
    "    preds = model.predict(X_test)\n",
    "    preds = [1 if x > 0.5 else 0 for x in preds]\n",
    "    return pd.concat([passengerIds, pd.Series(preds, name='Survived')], axis=1)\n",
    "\n",
    "preds = make_predictions(model2, X_test3, X_test.PassengerId)\n",
    "preds.to_csv('submission.csv', index=False)\n",
    "preds.head()"
   ]
  }
 ],
 "metadata": {
  "kernelspec": {
   "display_name": "Python 3",
   "language": "python",
   "name": "python3"
  },
  "language_info": {
   "codemirror_mode": {
    "name": "ipython",
    "version": 3
   },
   "file_extension": ".py",
   "mimetype": "text/x-python",
   "name": "python",
   "nbconvert_exporter": "python",
   "pygments_lexer": "ipython3",
   "version": "3.12.1"
  }
 },
 "nbformat": 4,
 "nbformat_minor": 2
}
